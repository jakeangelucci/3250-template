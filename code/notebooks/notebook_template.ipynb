{
 "cells": [
  {
   "cell_type": "markdown",
   "id": "8c8114a9-f36f-4575-8641-847b310eb1a3",
   "metadata": {},
   "source": [
    "# Project Name"
   ]
  },
  {
   "cell_type": "markdown",
   "id": "69eb368c-2c71-48dc-ac9c-a031a56f973d",
   "metadata": {},
   "source": [
    "**Author:** Jake Angelucci  \n",
    "**Last modified:** 11-13-2024 (created: 11-13-2024)\n",
    "\n",
    "**Description:** Short paragraph explaining this project."
   ]
  },
  {
   "cell_type": "markdown",
   "id": "26ad53d6-b868-408e-b7a4-0e53d3e69f13",
   "metadata": {},
   "source": [
    "<br>"
   ]
  },
  {
   "cell_type": "markdown",
   "id": "543bdab4-8744-42af-9c82-e7e347e126b2",
   "metadata": {},
   "source": [
    "import libraries:"
   ]
  },
  {
   "cell_type": "code",
   "execution_count": 5,
   "id": "89d34237-bd15-4321-9e86-5a4310c72101",
   "metadata": {},
   "outputs": [],
   "source": [
    "import pandas as pd"
   ]
  },
  {
   "cell_type": "markdown",
   "id": "a9c4c201-e965-47d6-a2a5-0aeaac54ab2e",
   "metadata": {},
   "source": [
    "load data:"
   ]
  },
  {
   "cell_type": "code",
   "execution_count": 7,
   "id": "ae727fc3-bdd7-4b46-94e4-089f78cabe32",
   "metadata": {},
   "outputs": [],
   "source": [
    "# Code to read .csv file"
   ]
  }
 ],
 "metadata": {
  "kernelspec": {
   "display_name": "Python 3 (ipykernel)",
   "language": "python",
   "name": "python3"
  },
  "language_info": {
   "codemirror_mode": {
    "name": "ipython",
    "version": 3
   },
   "file_extension": ".py",
   "mimetype": "text/x-python",
   "name": "python",
   "nbconvert_exporter": "python",
   "pygments_lexer": "ipython3",
   "version": "3.12.2"
  }
 },
 "nbformat": 4,
 "nbformat_minor": 5
}
